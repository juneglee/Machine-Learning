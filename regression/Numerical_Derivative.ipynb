{
 "cells": [
  {
   "cell_type": "markdown",
   "id": "0e5ea950",
   "metadata": {},
   "source": [
    "### 수치미분 "
   ]
  },
  {
   "cell_type": "code",
   "execution_count": 7,
   "id": "57ebeab6",
   "metadata": {},
   "outputs": [],
   "source": [
    "# f : 미분하려는 함수, 외부에서 def, lambda등으로 정의 \n",
    "# x : 미분 값을 알고자 하는 입력 값, 즉 미세하게 변하는 입력 값\n",
    "\n",
    "def numerical_derivative(f, x):\n",
    "    delta_x = 1e-4 # lim에 해당되는 작은 값\n",
    "    \n",
    "    return (f(x + delta_x) - f(x-delta_x)) / (2 * delta_x)"
   ]
  },
  {
   "cell_type": "markdown",
   "id": "65ea5644",
   "metadata": {},
   "source": [
    "##### 예제 1\n",
    "- 함수 f(x) = x^2 에서 미분계수 f`(3)을 구하기, 즉 x =3에서 값이 미세하게 변할 때, 함수 f는 얼마나 변하는지 계산하라는 의미"
   ]
  },
  {
   "cell_type": "code",
   "execution_count": 9,
   "id": "654024ab",
   "metadata": {},
   "outputs": [],
   "source": [
    "def my_func1(x):\n",
    "    return x**2"
   ]
  },
  {
   "cell_type": "code",
   "execution_count": 10,
   "id": "f4215c20",
   "metadata": {},
   "outputs": [
    {
     "name": "stdout",
     "output_type": "stream",
     "text": [
      "result == 6.000000000012662\n"
     ]
    }
   ],
   "source": [
    "result = numerical_derivative(my_func1, 3)\n",
    "print(f\"result == {result}\")"
   ]
  },
  {
   "cell_type": "markdown",
   "id": "3a080ba1",
   "metadata": {},
   "source": [
    "##### 예제2 \n",
    "- 함수 f(x) =3xe^x 에서 미분계수 f`(3)을 구하기, 즉 x =2에서 값이 미세하게 변할 때, 함수 f는 얼마나 변하는지 계산하라는 의미"
   ]
  },
  {
   "cell_type": "code",
   "execution_count": 12,
   "id": "f5af475b",
   "metadata": {},
   "outputs": [],
   "source": [
    "import numpy as np\n",
    "\n",
    "def my_func2(x):\n",
    "    return 3*x*(np.exp(x))"
   ]
  },
  {
   "cell_type": "code",
   "execution_count": 13,
   "id": "c803866f",
   "metadata": {},
   "outputs": [
    {
     "name": "stdout",
     "output_type": "stream",
     "text": [
      "result == 66.50150507518049\n"
     ]
    }
   ],
   "source": [
    "result = numerical_derivative(my_func2, 2)\n",
    "print(f\"result == {result}\")"
   ]
  },
  {
   "cell_type": "markdown",
   "id": "bd5ce952",
   "metadata": {},
   "source": [
    "##### 다 변수 함수\n",
    "- 입력 변수가 하나 이상인 다 변수 함수의 경우, 입력 변수는 서로 독립적이기 때문에 수치미분 도는 변수의 개수만큼 개별적으로 계산해야 한다 \n",
    "\n",
    "    - [insight] f(x,y) = 2x + 3xy + y^3 인 경우 \n",
    "    - f`(1.0, 2.0) = (8.0, 15,0) 직관적 이해 \n",
    "    - x = 1.0에서 미분 값을 구한다는 것은, 값은 2.0으로 고정한 상태에서 y = 1.0을 미세하게 변화시킬 때 f(x,y)는 얼마나 변화하는지 알아보겠다는 의미, 즉 y = 2.0으로 고정된 상태에서 x = 1.0을 미세하게 변화시키면 f(x,y)는 8.0만큼 변한다는 의미\n",
    "    - y = 2.0에서 미분 값을 구한다는 것은, 값은 1.0으로 고정한 상태에서 y = 2.0을 미세하게 변화시킬 때 f(x,y)는 얼마나 변화하는지 알아보겠다는 의미, 즉 x = 1.0으로 고정된 상태에서 y = 2.0을 미세하게 변화시키면 f(x,y)는 15.0만큼 변한다는 의미"
   ]
  },
  {
   "cell_type": "code",
   "execution_count": 17,
   "id": "31039167",
   "metadata": {},
   "outputs": [],
   "source": [
    "import numpy as np\n",
    "\n",
    "# f : 다변수 함수\n",
    "# x : 모든 변수를 포함하고 있는 numpy 객체 (배열, 행렬)\n",
    "def numerical_derivative(f, x):\n",
    "    delta_x = 1e-4\n",
    "    grad = np.zeros_like(x) # 계산된 수치미분 값 저장 변수\n",
    "    print(\"debug 1. initial input variable =\", x) # 모든 입력 변수  \n",
    "    print(\"debug 2. initial grad =\", grad) # 모든 입력 변수의 미분 값 초기화\n",
    "    print(\"=======================================\")\n",
    "    \n",
    "    # 모든 입력 변수에 대해 편미분하기 위한 iterator 획득\n",
    "    it = np.nditer(x, flags=['multi_index'], op_flags = ['readwrite'])\n",
    "    \n",
    "    # 변수의 개수 만큼 반복\n",
    "    while not it.finished:\n",
    "        idx = it.multi_index\n",
    "        \n",
    "        print(\"debug 3. idx = \", idx, \", x[idx] = \", x[idx])  \n",
    "        \n",
    "        tmp_val = x[idx] # numpy 타입은 mutable 이므로 원래 값 보관\n",
    "        x[idx] = float(tmp_val) + delta_x\n",
    "        fx1 = f(x) # f(x+delta_x)\n",
    "        \n",
    "        x[idx] = tmp_val - delta_x\n",
    "        fx2 = f(x) # f(x-delta_x)\n",
    "\n",
    "        grad[idx] = (fx1 - fx2) / (2 * delta_x)\n",
    "        \n",
    "        print(\"debug 4. grad[idx] = \", grad[idx]) # 계산된 미분값\n",
    "        print(\"debug 5. grad = \", grad) # 계산됨 모든 미분값\n",
    "        print(\"=======================================\")\n",
    "        \n",
    "        x[idx] = tmp_val\n",
    "        it.iternext()\n",
    "        \n",
    "    return grad"
   ]
  },
  {
   "cell_type": "markdown",
   "id": "d9e7c14b",
   "metadata": {},
   "source": [
    "##### 다변수함수 예제 1\n",
    "- 1 변수 함수 f(x) = x**2, f`(3.0)"
   ]
  },
  {
   "cell_type": "code",
   "execution_count": 19,
   "id": "8a13b1c8",
   "metadata": {},
   "outputs": [],
   "source": [
    "def func1(input_obj):    \n",
    "    x = input_obj[0]\n",
    "    \n",
    "    return  x**2  "
   ]
  },
  {
   "cell_type": "code",
   "execution_count": 20,
   "id": "961e4a48",
   "metadata": {},
   "outputs": [
    {
     "name": "stdout",
     "output_type": "stream",
     "text": [
      "debug 1. initial input variable = [3.]\n",
      "debug 2. initial grad = [0.]\n",
      "=======================================\n",
      "debug 3. idx =  (0,) , x[idx] =  3.0\n",
      "debug 4. grad[idx] =  6.000000000012662\n",
      "debug 5. grad =  [6.]\n",
      "=======================================\n"
     ]
    },
    {
     "data": {
      "text/plain": [
       "array([6.])"
      ]
     },
     "execution_count": 20,
     "metadata": {},
     "output_type": "execute_result"
    }
   ],
   "source": [
    "# x = 3.0 에서의 편미분 값\n",
    "numerical_derivative( func1, np.array([3.0]) ) "
   ]
  },
  {
   "cell_type": "markdown",
   "id": "2d7ad412",
   "metadata": {},
   "source": [
    "##### 다변수 함수 예제2\n",
    "- 2 변수 함수 f(x,y) = 2x + 3xy + y**3, f`(1.0, 2.0)"
   ]
  },
  {
   "cell_type": "code",
   "execution_count": 25,
   "id": "0e8d3ce8",
   "metadata": {},
   "outputs": [],
   "source": [
    "def func1(input_obj):    \n",
    "    x = input_obj[0]\n",
    "    y = input_obj[1]\n",
    "    \n",
    "    return  (2*x + 3*x*y + np.power(y,3))  "
   ]
  },
  {
   "cell_type": "code",
   "execution_count": 26,
   "id": "1ba53b29",
   "metadata": {},
   "outputs": [
    {
     "name": "stdout",
     "output_type": "stream",
     "text": [
      "debug 1. initial input variable = [1. 2.]\n",
      "debug 2. initial grad = [0. 0.]\n",
      "=======================================\n",
      "debug 3. idx =  (0,) , x[idx] =  1.0\n",
      "debug 4. grad[idx] =  7.999999999990237\n",
      "debug 5. grad =  [8. 0.]\n",
      "=======================================\n",
      "debug 3. idx =  (1,) , x[idx] =  2.0\n",
      "debug 4. grad[idx] =  15.000000010019221\n",
      "debug 5. grad =  [ 8.         15.00000001]\n",
      "=======================================\n"
     ]
    },
    {
     "data": {
      "text/plain": [
       "array([ 8.        , 15.00000001])"
      ]
     },
     "execution_count": 26,
     "metadata": {},
     "output_type": "execute_result"
    }
   ],
   "source": [
    "input = np.array([1.0, 2.0])\n",
    "numerical_derivative( func1, input ) "
   ]
  },
  {
   "cell_type": "markdown",
   "id": "a91fb8e5",
   "metadata": {},
   "source": [
    "##### 편미분 예제 \n",
    "- 2 변수 함수 f(w,x,y,z) = wx + xyz + 3w + zy**2, f`(1.0, 2.0, 3.0, 4.0)"
   ]
  },
  {
   "cell_type": "code",
   "execution_count": 28,
   "id": "abc157fc",
   "metadata": {},
   "outputs": [],
   "source": [
    "def func1(input_obj):    \n",
    "    w = input_obj[0, 0]\n",
    "    x = input_obj[0, 1]\n",
    "    y = input_obj[1, 0]\n",
    "    z = input_obj[1, 1]\n",
    "    \n",
    "    return  (w*x + x*y*z + 3*w + z*np.power(y,3))  "
   ]
  },
  {
   "cell_type": "code",
   "execution_count": 30,
   "id": "2edbdb16",
   "metadata": {},
   "outputs": [
    {
     "name": "stdout",
     "output_type": "stream",
     "text": [
      "debug 1. initial input variable = [[1. 2.]\n",
      " [3. 4.]]\n",
      "debug 2. initial grad = [[0. 0.]\n",
      " [0. 0.]]\n",
      "=======================================\n",
      "debug 3. idx =  (0, 0) , x[idx] =  1.0\n",
      "debug 4. grad[idx] =  4.999999999881766\n",
      "debug 5. grad =  [[5. 0.]\n",
      " [0. 0.]]\n",
      "=======================================\n",
      "debug 3. idx =  (0, 1) , x[idx] =  2.0\n",
      "debug 4. grad[idx] =  13.000000000147338\n",
      "debug 5. grad =  [[ 5. 13.]\n",
      " [ 0.  0.]]\n",
      "=======================================\n",
      "debug 3. idx =  (1, 0) , x[idx] =  3.0\n",
      "debug 4. grad[idx] =  116.00000004023059\n",
      "debug 5. grad =  [[  5.          13.        ]\n",
      " [116.00000004   0.        ]]\n",
      "=======================================\n",
      "debug 3. idx =  (1, 1) , x[idx] =  4.0\n",
      "debug 4. grad[idx] =  32.99999999995862\n",
      "debug 5. grad =  [[  5.          13.        ]\n",
      " [116.00000004  33.        ]]\n",
      "=======================================\n"
     ]
    },
    {
     "data": {
      "text/plain": [
       "array([[  5.        ,  13.        ],\n",
       "       [116.00000004,  33.        ]])"
      ]
     },
     "execution_count": 30,
     "metadata": {},
     "output_type": "execute_result"
    }
   ],
   "source": [
    "input = np.array([[1.0, 2.0], [3.0, 4.0]])\n",
    "numerical_derivative( func1, input ) "
   ]
  },
  {
   "cell_type": "code",
   "execution_count": null,
   "id": "9ef7a1c3",
   "metadata": {},
   "outputs": [],
   "source": []
  }
 ],
 "metadata": {
  "kernelspec": {
   "display_name": "Python 3 (ipykernel)",
   "language": "python",
   "name": "python3"
  },
  "language_info": {
   "codemirror_mode": {
    "name": "ipython",
    "version": 3
   },
   "file_extension": ".py",
   "mimetype": "text/x-python",
   "name": "python",
   "nbconvert_exporter": "python",
   "pygments_lexer": "ipython3",
   "version": "3.8.5"
  }
 },
 "nbformat": 4,
 "nbformat_minor": 5
}
