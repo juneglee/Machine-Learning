{
 "cells": [
  {
   "cell_type": "markdown",
   "id": "01b55e25",
   "metadata": {},
   "source": [
    "### Logistic Regression - Classification\n",
    "- Classification (분류)\n",
    "    - Training Data 특성과 관계 등을 파악 한 후에, 미지의 입력 데이터에 대해서 결과가 어떤 종류의 값으로 분류될 수 있는지를 에측하는 것\n",
    "    - ex) 스팸문자 분류, 암 판별 등 \n",
    "\n",
    "- Logistic Regression \n",
    "    - Training Data 특성과 분포를 나타내는 최적의 직선을 찾고 (linear Regression)\n",
    "    - 그 직선을 기준으로 데이터를 분류를 해주는 알고리즘 \n",
    "    - 이러한 Logisitc Regression 은 Classification 알고리즘 중에서도 정확도가 높은 알고리즘으로 알려져 있어서 딥러닝의 기본 Component로 사용되고 있다 \n",
    "    \n",
    "- 활성화 함수 (sigmoid)\n",
    "    - 출력 값 y가 1 또는 0 만을 가져야만 하는 분류 시스템에서 함수 값으로 0~1 사이의 값을 가지는 sigmoid 함수를 사용할 수 있음. 즉, Linear Regression 출력 Wx + b가 어떤 값을 갖더라도, 출력 함수로 sigmoid를 사용해서 \n",
    "       1. sigmoid 계산 값이 0.5보다 크면 결과로 1이 나올 확률이 높다는 것이기 대문에 출력 값 y는 1을 정의\n",
    "       2. sigmoid 계산 값이 0.5 미만이면 결과로 0이 나올 확률이 높다는 것이므로 출력 값 y는 0 정의하여 classification 시스템을 구현 할 수 있음\n",
    "           \n",
    "- 손실 함수 (loss function), W, b\n",
    "    - 분류 시스템 (classification) 최종 출력 값 y 는 sigmoid 함수에 의해 논리적으로 1 또는 0 값을 가지기 때문에 \n",
    "    연속 값을 갖는 선형 회귀 때와는 다른 손실 함수가 필요하다 (cross-entropy 유도)"
   ]
  },
  {
   "cell_type": "markdown",
   "id": "1350e84a",
   "metadata": {},
   "source": [
    "##### Training Data (입력 x, 정답 t)"
   ]
  },
  {
   "cell_type": "code",
   "execution_count": 1,
   "id": "32c99b00",
   "metadata": {},
   "outputs": [
    {
     "name": "stdout",
     "output_type": "stream",
     "text": [
      "x_data.shape =  (10, 1) , t_data.shape =  (10, 1)\n"
     ]
    }
   ],
   "source": [
    "import numpy as np\n",
    "\n",
    "x_data = np.array([2, 4, 6, 8, 10, 12, 14, 16, 18, 20]).reshape(10,1)   \n",
    "t_data = np.array([0, 0, 0, 0,  0,  0,  1,  1,  1,  1]).reshape(10,1)\n",
    "\n",
    "print(\"x_data.shape = \", x_data.shape, \", t_data.shape = \", t_data.shape)"
   ]
  },
  {
   "cell_type": "markdown",
   "id": "59dd544d",
   "metadata": {},
   "source": [
    "##### 임의의 직선  y = Wx + b 정의  (임의이 값으로 가중치 W, 바이어스 b 초기화)"
   ]
  },
  {
   "cell_type": "code",
   "execution_count": 2,
   "id": "b1f422e1",
   "metadata": {},
   "outputs": [
    {
     "name": "stdout",
     "output_type": "stream",
     "text": [
      "W =  [[0.95598589]] , W.shape =  (1, 1) , b =  [0.89228037] , b.shape =  (1,)\n"
     ]
    }
   ],
   "source": [
    "W = np.random.rand(1,1)  \n",
    "b = np.random.rand(1)  \n",
    "print(\"W = \", W, \", W.shape = \", W.shape, \", b = \", b, \", b.shape = \", b.shape)"
   ]
  },
  {
   "cell_type": "markdown",
   "id": "169c9be3",
   "metadata": {},
   "source": [
    "##### 활성화 함수, 손실함수 정의 "
   ]
  },
  {
   "cell_type": "code",
   "execution_count": 3,
   "id": "f102c192",
   "metadata": {},
   "outputs": [],
   "source": [
    "# 최종출력은 y = sigmoid(Wx+b) 이며, 손실함수는 cross-entropy 로 나타냄 \n",
    "def sigmoid(x):\n",
    "    return 1 / (1 + np.exp(-x))\n",
    "\n",
    "def loss_func(x, t):\n",
    "    delta = 1e-7 # log 무한대를 방지하기 위해 정의 \n",
    "    \n",
    "    z = np.dot(x, W) + b\n",
    "    y = sigmoid(z)\n",
    "    \n",
    "    # cross-entropy\n",
    "    return -np.sum(t * np.log(y + delta) + (1-t)*np.log((1-y) + delta))"
   ]
  },
  {
   "cell_type": "markdown",
   "id": "ccd329c6",
   "metadata": {},
   "source": [
    "#### 수치 미분 (numerical_derivative) 및 utility 함수 정의 "
   ]
  },
  {
   "cell_type": "code",
   "execution_count": 4,
   "id": "290e0825",
   "metadata": {},
   "outputs": [],
   "source": [
    "def numerical_derivative(f, x):\n",
    "    delta_x = 1e-4 # 0.0001\n",
    "    grad = np.zeros_like(x)\n",
    "    \n",
    "    it = np.nditer(x, flags=['multi_index'], op_flags=['readwrite'])\n",
    "    \n",
    "    while not it.finished:\n",
    "        idx = it.multi_index        \n",
    "        tmp_val = x[idx]\n",
    "        x[idx] = float(tmp_val) + delta_x\n",
    "        fx1 = f(x) # f(x+delta_x)\n",
    "        \n",
    "        x[idx] = tmp_val - delta_x \n",
    "        fx2 = f(x) # f(x-delta_x)\n",
    "        grad[idx] = (fx1 - fx2) / (2*delta_x)\n",
    "        \n",
    "        x[idx] = tmp_val \n",
    "        it.iternext()   \n",
    "        \n",
    "    return grad"
   ]
  },
  {
   "cell_type": "code",
   "execution_count": 5,
   "id": "6d2da444",
   "metadata": {},
   "outputs": [],
   "source": [
    "# 손실함수 값 계산 함수\n",
    "# 입력변수 x, t : numpy type\n",
    "def error_val(x, t):\n",
    "    delta = 1e-7    # log 무한대 발산 방지\n",
    "    \n",
    "    z = np.dot(x,W) + b\n",
    "    y = sigmoid(z)\n",
    "    \n",
    "    # cross-entropy \n",
    "    return  -np.sum( t*np.log(y + delta) + (1-t)*np.log((1 - y)+delta ) ) \n",
    "\n",
    "# 학습을 마친 후, 임의의 데이터에 대해 미래 값 예측 함수\n",
    "# 입력변수 x : numpy type\n",
    "def predict(x):\n",
    "    \n",
    "    z = np.dot(x,W) + b\n",
    "    y = sigmoid(z)\n",
    "    \n",
    "    if y >= 0.5:\n",
    "        result = 1  # True\n",
    "    else:\n",
    "        result = 0  # False\n",
    "    \n",
    "    return y, result"
   ]
  },
  {
   "cell_type": "markdown",
   "id": "1f675b07",
   "metadata": {},
   "source": [
    "##### 학습률 (Learning rate) 초기화 및 손실함수가 최소가 될 때까지 W, b 업데이트"
   ]
  },
  {
   "cell_type": "code",
   "execution_count": 6,
   "id": "603c8e4c",
   "metadata": {},
   "outputs": [
    {
     "name": "stdout",
     "output_type": "stream",
     "text": [
      "Initial error value =  45.547128440684254 Initial W =  [[0.95598589]] \n",
      " , b =  [0.89228037]\n",
      "step =  0 error value =  27.92664413195932 W =  [[0.54071844]] , b =  [0.83419152]\n",
      "step =  400 error value =  2.8366919449371006 W =  [[0.27555032]] , b =  [-4.082528]\n",
      "step =  800 error value =  1.7868435598897614 W =  [[0.45256802]] , b =  [-5.63046459]\n",
      "step =  1200 error value =  1.5197127194188398 W =  [[0.53010188]] , b =  [-6.66290622]\n",
      "step =  1600 error value =  1.3536277223616724 W =  [[0.59146827]] , b =  [-7.47782303]\n",
      "step =  2000 error value =  1.2368391434208437 W =  [[0.6430554]] , b =  [-8.16137527]\n",
      "step =  2400 error value =  1.1484843693950726 W =  [[0.68800792]] , b =  [-8.75595638]\n",
      "step =  2800 error value =  1.0783246003375457 W =  [[0.72812331]] , b =  [-9.28577719]\n",
      "step =  3200 error value =  1.0206637724086118 W =  [[0.76453321]] , b =  [-9.76606393]\n",
      "step =  3600 error value =  0.9720436194919484 W =  [[0.7980001]] , b =  [-10.20706402]\n",
      "step =  4000 error value =  0.9302244224776333 W =  [[0.82906425]] , b =  [-10.61603043]\n",
      "step =  4400 error value =  0.8936816542837449 W =  [[0.85812366]] , b =  [-10.99830056]\n",
      "step =  4800 error value =  0.8613357615935642 W =  [[0.88548077]] , b =  [-11.35792593]\n",
      "step =  5200 error value =  0.8323972872136278 W =  [[0.91137128]] , b =  [-11.69806086]\n",
      "step =  5600 error value =  0.8062732857093394 W =  [[0.93598277]] , b =  [-12.02121336]\n",
      "step =  6000 error value =  0.7825082573799104 W =  [[0.95946719]] , b =  [-12.32941337]\n",
      "step =  6400 error value =  0.7607454799719764 W =  [[0.98194953]] , b =  [-12.62432908]\n",
      "step =  6800 error value =  0.7407008929895632 W =  [[1.00353393]] , b =  [-12.90734961]\n",
      "step =  7200 error value =  0.722144979483768 W =  [[1.02430821]] , b =  [-13.17964508]\n",
      "step =  7600 error value =  0.7048898984849712 W =  [[1.04434711]] , b =  [-13.44221125]\n",
      "step =  8000 error value =  0.6887801563566206 W =  [[1.06371489]] , b =  [-13.69590317]\n",
      "step =  8400 error value =  0.6736857192279777 W =  [[1.08246719]] , b =  [-13.94146102]\n",
      "step =  8800 error value =  0.6594968442288046 W =  [[1.10065256]] , b =  [-14.17953023]\n",
      "step =  9200 error value =  0.6461201434362249 W =  [[1.11831365]] , b =  [-14.41067733]\n",
      "step =  9600 error value =  0.6334755466784018 W =  [[1.13548813]] , b =  [-14.63540257]\n",
      "step =  10000 error value =  0.6214939296542377 W =  [[1.15220945]] , b =  [-14.85415012]\n"
     ]
    }
   ],
   "source": [
    "learning_rate = 1e-2  # 발산하는 경우, 1e-3 ~ 1e-6 등으로 바꾸어서 실행\n",
    "\n",
    "f = lambda x : loss_func(x_data,t_data)  # f(x) = loss_func(x_data, t_data)\n",
    "\n",
    "print(\"Initial error value = \", error_val(x_data, t_data), \"Initial W = \", W, \"\\n\", \", b = \", b )\n",
    "\n",
    "for step in  range(10001):  \n",
    "    \n",
    "    W -= learning_rate * numerical_derivative(f, W)\n",
    "    \n",
    "    b -= learning_rate * numerical_derivative(f, b)\n",
    "    \n",
    "    if (step % 400 == 0):\n",
    "        print(\"step = \", step, \"error value = \", error_val(x_data, t_data), \"W = \", W, \", b = \",b )"
   ]
  },
  {
   "cell_type": "code",
   "execution_count": 7,
   "id": "ef0a391b",
   "metadata": {},
   "outputs": [
    {
     "name": "stdout",
     "output_type": "stream",
     "text": [
      "predict(3) : [[1.12231384e-05]], 0\n",
      "predict(17) : [[0.99128028]], 1\n"
     ]
    }
   ],
   "source": [
    "(real_val, logical_val) = predict(3) # 3시간 입력 미래값 예측\n",
    "print(f'predict(3) : {real_val}, {logical_val}')\n",
    "(real_val, logical_val) = predict(17) # 17시간 입력 미래값 예측\n",
    "print(f'predict(17) : {real_val}, {logical_val}')"
   ]
  },
  {
   "cell_type": "markdown",
   "id": "e9ecfe0e",
   "metadata": {},
   "source": [
    "##### multi-variable logistic regression (classification) "
   ]
  },
  {
   "cell_type": "markdown",
   "id": "3aa7f5ea",
   "metadata": {},
   "source": [
    "##### Training Data (예습시간 (x1), 복습시간 (x2), 정답 fail/pass(t))"
   ]
  },
  {
   "cell_type": "code",
   "execution_count": 8,
   "id": "9fadc0a3",
   "metadata": {},
   "outputs": [
    {
     "name": "stdout",
     "output_type": "stream",
     "text": [
      "x_data.ndim =  2 , x_data.shape =  (9, 2)\n",
      "t_data.ndim =  2 , t_data.shape =  (9, 1)\n"
     ]
    }
   ],
   "source": [
    "# x_data = (예습시간, 복습시간)\n",
    "# t_data = 1 (Pass), 0 (Fail)\n",
    "\n",
    "import numpy as np\n",
    "\n",
    "x_data = np.array([ [2, 4], [4, 11], [6, 6], [8, 5], [10, 7], [12, 16], [14, 8], [16, 3], [18, 7] ])\n",
    "t_data = np.array([0, 0, 0, 0, 1, 1, 1, 1, 1]).reshape(9, 1)\n",
    "\n",
    "# 데이터 차원 및 shape 확인\n",
    "print(\"x_data.ndim = \", x_data.ndim, \", x_data.shape = \", x_data.shape)\n",
    "print(\"t_data.ndim = \", t_data.ndim, \", t_data.shape = \", t_data.shape)"
   ]
  },
  {
   "cell_type": "code",
   "execution_count": 9,
   "id": "113d440a",
   "metadata": {},
   "outputs": [
    {
     "name": "stdout",
     "output_type": "stream",
     "text": [
      "W =  [[0.40928595]\n",
      " [0.74357418]] , W.shape =  (2, 1) , b =  [0.91052255] , b.shape =  (1,)\n"
     ]
    }
   ],
   "source": [
    "W = np.random.rand(2,1)  \n",
    "b = np.random.rand(1)  \n",
    "print(\"W = \", W, \", W.shape = \", W.shape, \", b = \", b, \", b.shape = \", b.shape)"
   ]
  },
  {
   "cell_type": "code",
   "execution_count": 10,
   "id": "275d6ea0",
   "metadata": {},
   "outputs": [
    {
     "name": "stdout",
     "output_type": "stream",
     "text": [
      "Initial error value =  31.165575651377804 Initial W =  [[0.40928595]\n",
      " [0.74357418]] \n",
      " , b =  [0.91052255]\n",
      "step =  0 error value =  20.33556814325532 W =  [[0.20975264]\n",
      " [0.48451111]] , b =  [0.87108451]\n",
      "step =  400 error value =  2.3516836090030355 W =  [[ 0.41073041]\n",
      " [-0.09296657]] , b =  [-2.47569233]\n",
      "step =  800 error value =  1.621241366127626 W =  [[ 0.52940291]\n",
      " [-0.02947254]] , b =  [-4.17126498]\n",
      "step =  1200 error value =  1.2959300792648936 W =  [[0.61801947]\n",
      " [0.00698095]] , b =  [-5.30782842]\n",
      "step =  1600 error value =  1.1082589940668564 W =  [[0.68927797]\n",
      " [0.03268581]] , b =  [-6.17210095]\n",
      "step =  2000 error value =  0.9837255228109081 W =  [[0.74919442]\n",
      " [0.05302704]] , b =  [-6.87637584]\n",
      "step =  2400 error value =  0.8935506170236671 W =  [[0.8010594 ]\n",
      " [0.07036017]] , b =  [-7.47571998]\n",
      "step =  2800 error value =  0.8242717382731114 W =  [[0.8468706 ]\n",
      " [0.08589278]] , b =  [-8.00104786]\n",
      "step =  3200 error value =  0.7687375702418225 W =  [[0.88793597]\n",
      " [0.10030875]] , b =  [-8.47136973]\n",
      "step =  3600 error value =  0.7227866031440953 W =  [[0.92516237]\n",
      " [0.11402125]] , b =  [-8.89917395]\n",
      "step =  4000 error value =  0.6838246791575282 W =  [[0.9592078 ]\n",
      " [0.12729001]] , b =  [-9.29308786]\n",
      "step =  4400 error value =  0.6501453456104519 W =  [[0.99056801]\n",
      " [0.14028119]] , b =  [-9.65931246]\n",
      "step =  4800 error value =  0.6205766062803206 W =  [[1.01962858]\n",
      " [0.15310043]] , b =  [-10.00244961]\n",
      "step =  5200 error value =  0.5942845934935564 W =  [[1.04669774]\n",
      " [0.16581243]] , b =  [-10.32600543]\n",
      "step =  5600 error value =  0.570658309521458 W =  [[1.07202769]\n",
      " [0.17845337]] , b =  [-10.6327104]\n",
      "step =  6000 error value =  0.5492387967217875 W =  [[1.09582885]\n",
      " [0.19103927]] , b =  [-10.92473081]\n",
      "step =  6400 error value =  0.5296738895471387 W =  [[1.11827948]\n",
      " [0.20357204]] , b =  [-11.20381288]\n",
      "step =  6800 error value =  0.5116883298048959 W =  [[1.13953241]\n",
      " [0.21604398]] , b =  [-11.47138381]\n",
      "step =  7200 error value =  0.49506345057223927 W =  [[1.15971974]\n",
      " [0.22844128]] , b =  [-11.72862442]\n",
      "step =  7600 error value =  0.4796230130849538 W =  [[1.17895628]\n",
      " [0.24074677]] , b =  [-11.97652241]\n",
      "step =  8000 error value =  0.4652231136790882 W =  [[1.19734204]\n",
      " [0.25294194]] , b =  [-12.21591222]\n",
      "step =  8400 error value =  0.4517448516557132 W =  [[1.21496434]\n",
      " [0.26500855]] , b =  [-12.44750536]\n",
      "step =  8800 error value =  0.4390889125485269 W =  [[1.23189934]\n",
      " [0.27692959]] , b =  [-12.67191367]\n",
      "step =  9200 error value =  0.4271715069770782 W =  [[1.2482135 ]\n",
      " [0.28869006]] , b =  [-12.88966763]\n",
      "step =  9600 error value =  0.4159212859281583 W =  [[1.26396472]\n",
      " [0.30027725]] , b =  [-13.10123061]\n",
      "step =  10000 error value =  0.40527697031197424 W =  [[1.27920352]\n",
      " [0.31168092]] , b =  [-13.30701035]\n"
     ]
    }
   ],
   "source": [
    "learning_rate = 1e-2  # 발산하는 경우, 1e-3 ~ 1e-6 등으로 바꾸어서 실행\n",
    "\n",
    "f = lambda x : loss_func(x_data,t_data)  # f(x) = loss_func(x_data, t_data)\n",
    "\n",
    "print(\"Initial error value = \", error_val(x_data, t_data), \"Initial W = \", W, \"\\n\", \", b = \", b )\n",
    "\n",
    "for step in  range(10001):  \n",
    "    W -= learning_rate * numerical_derivative(f, W)\n",
    "    b -= learning_rate * numerical_derivative(f, b)\n",
    "    \n",
    "    if (step % 400 == 0):\n",
    "        print(\"step = \", step, \"error value = \", error_val(x_data, t_data), \"W = \", W, \", b = \",b )"
   ]
  },
  {
   "cell_type": "code",
   "execution_count": 11,
   "id": "8d84c552",
   "metadata": {},
   "outputs": [
    {
     "name": "stdout",
     "output_type": "stream",
     "text": [
      "(예습, 복습) = (3, 17) : (array([0.01520478]), 0)\n"
     ]
    }
   ],
   "source": [
    "test_data = np.array([3, 17]) \n",
    "print(f'(예습, 복습) = (3, 17) : {predict(test_data)}') #  Fail (0)"
   ]
  },
  {
   "cell_type": "code",
   "execution_count": 12,
   "id": "1921a11f",
   "metadata": {},
   "outputs": [
    {
     "name": "stdout",
     "output_type": "stream",
     "text": [
      "(예습, 복습) = (5, 8) : (array([0.01192001]), 0)\n"
     ]
    }
   ],
   "source": [
    "test_data = np.array([5, 8]) \n",
    "print(f'(예습, 복습) = (5, 8) : {predict(test_data)}') #  Fail (0)"
   ]
  },
  {
   "cell_type": "code",
   "execution_count": 13,
   "id": "6a9e5b53",
   "metadata": {},
   "outputs": [
    {
     "name": "stdout",
     "output_type": "stream",
     "text": [
      "(예습, 복습) = (7, 21) : (array([0.89959329]), 1)\n"
     ]
    }
   ],
   "source": [
    "test_data = np.array([7, 21]) \n",
    "print(f'(예습, 복습) = (7, 21) : {predict(test_data)}') #  Pass (1)"
   ]
  },
  {
   "cell_type": "code",
   "execution_count": 14,
   "id": "db58481c",
   "metadata": {},
   "outputs": [
    {
     "name": "stdout",
     "output_type": "stream",
     "text": [
      "(예습, 복습) = (12, 0) : (array([0.88528226]), 1)\n"
     ]
    }
   ],
   "source": [
    "test_data = np.array([12, 0]) \n",
    "print(f'(예습, 복습) = (12, 0) : {predict(test_data)}') #  Pass (0)"
   ]
  },
  {
   "cell_type": "code",
   "execution_count": null,
   "id": "18ee9900",
   "metadata": {},
   "outputs": [],
   "source": []
  }
 ],
 "metadata": {
  "kernelspec": {
   "display_name": "Python 3 (ipykernel)",
   "language": "python",
   "name": "python3"
  },
  "language_info": {
   "codemirror_mode": {
    "name": "ipython",
    "version": 3
   },
   "file_extension": ".py",
   "mimetype": "text/x-python",
   "name": "python",
   "nbconvert_exporter": "python",
   "pygments_lexer": "ipython3",
   "version": "3.8.5"
  }
 },
 "nbformat": 4,
 "nbformat_minor": 5
}
